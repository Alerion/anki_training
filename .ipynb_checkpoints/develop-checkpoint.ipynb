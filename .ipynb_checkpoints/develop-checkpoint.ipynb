{
 "cells": [
  {
   "cell_type": "code",
   "execution_count": 1,
   "id": "7304b32e-ebf3-4998-a667-4883491a069b",
   "metadata": {},
   "outputs": [],
   "source": [
    "from anki.collection import Collection\n",
    "from rich import print as rprint\n",
    "\n",
    "COLLECTION_PATH = \"c:/Users/user/AppData/Roaming/Anki2/User 1/collection.anki2\"\n",
    "DECK_NAME = \"Deutsch::07 Irregular Verbs\"\n",
    "\n",
    "collection = Collection(COLLECTION_PATH)\n",
    "deck = collection.decks.by_name(DECK_NAME)"
   ]
  },
  {
   "cell_type": "code",
   "execution_count": 2,
   "id": "2535d78b-ecc5-451c-b1ac-d453eec4e2f6",
   "metadata": {},
   "outputs": [],
   "source": [
    "from dataclasses import dataclass\n",
    "from bs4 import BeautifulSoup\n",
    "import re\n",
    "\n",
    "@dataclass\n",
    "class WordInfo:\n",
    "    translation: str = \"\"\n",
    "    simple_past: str = \"\"\n",
    "    past_participle: str = \"\"\n",
    "    present: str = \"\"\n",
    "\n",
    "def parse_note_back_field(html_content) -> WordInfo:\n",
    "    soup = BeautifulSoup(html_content, 'html.parser') \n",
    "    word_info = WordInfo()\n",
    "\n",
    "    translation_tag = soup.find('font', color=\"#c12d30\")\n",
    "    word_info.translation = translation_tag.get_text().strip()\n",
    "\n",
    "    simple_past_span = soup.find('span', string=re.compile(\"Simple past\"))\n",
    "    simple_past_value_span = simple_past_span.find_next('span')\n",
    "    word_info.simple_past = simple_past_value_span.get_text().strip()\n",
    "\n",
    "    past_participle_span = soup.find('span', string=re.compile(\"Past participle\"))\n",
    "    past_participle_value_span = simple_past_span.find_next('span')\n",
    "    word_info.past_participle = past_participle_value_span.get_text().strip()\n",
    "\n",
    "    present_span = soup.find('span', string=re.compile(\"er/sie/es\"))\n",
    "    present_value_span = present_span.find_next('span')\n",
    "    if present_value_span is None:\n",
    "        present_value_span = present_span.find_next('b')\n",
    "    word_info.present = present_value_span.get_text().strip()\n",
    "\n",
    "    return word_info"
   ]
  },
  {
   "cell_type": "code",
   "execution_count": 3,
   "id": "dae1e764-de60-433b-8f19-fa88ea23edc9",
   "metadata": {},
   "outputs": [],
   "source": [
    "deck_id = deck['id']\n",
    "\n",
    "# Get all card IDs in the deck\n",
    "card_ids = collection.decks.cids(deck_id)\n",
    "\n",
    "# Iterate through each card ID and print its fields\n",
    "for card_id in card_ids:\n",
    "    card = collection.get_card(card_id)\n",
    "    note = card.note()\n",
    "    try:\n",
    "        parse_note_back_field(note[\"Back\"])\n",
    "    except Exception:\n",
    "        rprint(note[\"Back\"])\n",
    "        raise        "
   ]
  },
  {
   "cell_type": "code",
   "execution_count": null,
   "id": "eea08321-42b2-434e-ab7d-fd391bbcfd49",
   "metadata": {},
   "outputs": [],
   "source": []
  }
 ],
 "metadata": {
  "kernelspec": {
   "display_name": "Python 3 (ipykernel)",
   "language": "python",
   "name": "python3"
  },
  "language_info": {
   "codemirror_mode": {
    "name": "ipython",
    "version": 3
   },
   "file_extension": ".py",
   "mimetype": "text/x-python",
   "name": "python",
   "nbconvert_exporter": "python",
   "pygments_lexer": "ipython3",
   "version": "3.11.7"
  }
 },
 "nbformat": 4,
 "nbformat_minor": 5
}
